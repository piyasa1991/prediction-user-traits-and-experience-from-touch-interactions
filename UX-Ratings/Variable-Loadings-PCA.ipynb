{
 "cells": [
  {
   "cell_type": "markdown",
   "metadata": {},
   "source": [
    "# Computes the factor loadings for STUDY1 and STUDY2 after PCA"
   ]
  },
  {
   "cell_type": "code",
   "execution_count": 1,
   "metadata": {},
   "outputs": [],
   "source": [
    "import pandas as pd\n",
    "import numpy as np\n",
    "import collections\n",
    "from sklearn.decomposition import PCA\n",
    "from sklearn.preprocessing import StandardScaler\n",
    "from sklearn.model_selection import train_test_split"
   ]
  },
  {
   "cell_type": "code",
   "execution_count": 2,
   "metadata": {},
   "outputs": [],
   "source": [
    "def transformedColumns(normality_test_features_path):\n",
    "    \"\"\"Fetches the transformed columns for the dataset\n",
    "    \n",
    "    Parameters\n",
    "    ----------\n",
    "    normality_test_features_path: str\n",
    "        File path for the normality test for the dataset\n",
    "    \n",
    "    Returns\n",
    "    ----------\n",
    "    list\n",
    "        Containing transformed columns which satisfies normality\n",
    "    \"\"\"\n",
    "    print(\"reading the normal features from path: \",normality_test_features_path)\n",
    "    mahalanobis = pd.read_csv(normality_test_features_path)\n",
    "    mahalanobis = list(mahalanobis[mahalanobis['Normality']==True]['Features'].values)\n",
    "    not_columns=['SEA','PQ','ATT', 'HQI', 'HQ','HQS']\n",
    "    for col in not_columns:\n",
    "        if(col in mahalanobis):\n",
    "            mahalanobis.remove(col)\n",
    "    return mahalanobis\n",
    "\n",
    "def getFactorLoadings(X, y,filename_to_save):\n",
    "    \"\"\" Finds the factor loadings for each dataset\n",
    "    X: pandas.DataFrame\n",
    "        Dataset containing the feature instances\n",
    "    y: pandas.Series\n",
    "        Series containing the labels\n",
    "    filename_to_save: str\n",
    "        Filename where the loadings is to be saved\n",
    "    \n",
    "    \"\"\"\n",
    "    # removed 0 variance\n",
    "    X = X.loc[:, X.var() != 0.0]\n",
    "\n",
    "    # Create correlation matrix\n",
    "    corr_matrix = X.select_dtypes(['float64']).corr().abs()\n",
    "\n",
    "    # Select upper triangle of correlation matrix\n",
    "    upper_traingle = corr_matrix.where(np.triu(np.ones(corr_matrix.shape), k=1).astype(np.bool))\n",
    "\n",
    "    # Find index of feature columns with correlation greater than 0.95\n",
    "    to_drop_cols = [column for column in upper_traingle.columns if any(upper_traingle[column] >= 0.80)]\n",
    "\n",
    "    # Drop features \n",
    "    X = X.drop(X[to_drop_cols], axis=1)\n",
    "\n",
    "    print(\"Shape of the data after removing 0 variance highly correlated data:\",X.shape)\n",
    "\n",
    "    # split the data into train test set\n",
    "    X_train, X_test, y_train, y_test = train_test_split(X, y, test_size=0.30, random_state=42,shuffle=True)     \n",
    "\n",
    "    columns = X_train.columns\n",
    "\n",
    "    scaler = StandardScaler()\n",
    "    X_train_sc = scaler.fit(X_train)\n",
    "    X_train_sc=scaler.transform(X_train)\n",
    "    X_test_sc = scaler.transform(X_test)\n",
    "\n",
    "    pca= PCA()\n",
    "    pca.fit(X_train_sc)\n",
    "    print('number of principal components:',pca.n_components_)\n",
    "\n",
    "    pd.DataFrame(pca.components_,columns=columns).T.to_csv(filename_to_save)\n",
    "    print(\"file saved in {}\".format(filename_to_save))"
   ]
  },
  {
   "cell_type": "code",
   "execution_count": 3,
   "metadata": {
    "collapsed": true
   },
   "outputs": [
    {
     "name": "stdout",
     "output_type": "stream",
     "text": [
      "Index(['x_location.down_mean', 'y_location.down_mean', 'touch.duration_mean',\n",
      "       'swipe_length_mean', 'swipe_length.x_mean', 'swipe_length.y_mean',\n",
      "       'button_touch_x_location_mean', 'button_touch_y_location_mean',\n",
      "       'target_touch_x_location_mean', 'target_touch_y_location_mean',\n",
      "       ...\n",
      "       'target_touch_y_location_count', 'time_between_touches_count',\n",
      "       'x_location.release_count', 'y_location.release_count',\n",
      "       'difference.touch_buttonCenter_x_count',\n",
      "       'difference.touch_buttonCenter_y_count', 'touchAccuracy_count',\n",
      "       'touchAccuracy_x_count', 'touchAccuracy_y_count', 'hit_rate'],\n",
      "      dtype='object', length=181)\n",
      "Shape of the data after removing 0 variance highly correlated data: (186, 89)\n",
      "number of principal components: 89\n",
      "file saved in Tables/PCA-Factor-Loadings/study1_PCA_mahalanobis.csv\n"
     ]
    }
   ],
   "source": [
    "# study1 original distributions\n",
    "if __name__=='__main__':\n",
    "    path='../datasets/files_generated/UX/study1_features_data_out_mahalanobis.csv'\n",
    "    target='PQ'\n",
    "    df = pd.read_csv(path)\n",
    "\n",
    "    df=df[df['App']=='Spell']\n",
    "    X,y= df.drop(['user_id','App','Cond','sessionNr','SEA', 'PQ', 'ATT', 'HQI', 'HQS', 'HQ'],axis=1),df[target]\n",
    "    print(X.columns)\n",
    "    filename_to_save = 'Tables/PCA-Factor-Loadings/study1_PCA_mahalanobis.csv'\n",
    "    getFactorLoadings(X,y,filename_to_save)"
   ]
  },
  {
   "cell_type": "code",
   "execution_count": 4,
   "metadata": {
    "collapsed": true
   },
   "outputs": [
    {
     "name": "stdout",
     "output_type": "stream",
     "text": [
      "reading the normal features from path:  Tables/NormalityCheck/study1_univariate_normality_test_features_mahalanobis_transformed.csv\n",
      "Index(['x_location.down_mean', 'y_location.down_mean', 'touch.duration_mean',\n",
      "       'swipe_length_mean', 'swipe_length.x_mean', 'swipe_length.y_mean',\n",
      "       'button_touch_x_location_mean', 'button_touch_y_location_mean',\n",
      "       'target_touch_x_location_mean', 'target_touch_y_location_mean',\n",
      "       ...\n",
      "       'target_touch_y_location_count', 'time_between_touches_count',\n",
      "       'x_location.release_count', 'y_location.release_count',\n",
      "       'difference.touch_buttonCenter_x_count',\n",
      "       'difference.touch_buttonCenter_y_count', 'touchAccuracy_count',\n",
      "       'touchAccuracy_x_count', 'touchAccuracy_y_count', 'hit_rate'],\n",
      "      dtype='object', length=157)\n",
      "Shape of the data after removing 0 variance highly correlated data: (186, 65)\n",
      "number of principal components: 65\n",
      "file saved in Tables/PCA-Factor-Loadings/study1_PCA_mahalanobis_transformedDistributions.csv\n"
     ]
    }
   ],
   "source": [
    "# study1 transformed distributions\n",
    "if __name__=='__main__':\n",
    "    path='../datasets/files_generated/UX/study1_features_data_out_mahalanobis_transformedDistributions.csv'\n",
    "    target='PQ'\n",
    "    df = pd.read_csv(path)\n",
    "    df=df[df['App']=='Spell']\n",
    "    \n",
    "    normality_test_features_path ='Tables/NormalityCheck/study1_univariate_normality_test_features_mahalanobis_transformed.csv'\n",
    "    mahalanobis = transformedColumns(normality_test_features_path)\n",
    "                     \n",
    "    X,y= df.drop(['user_id','App','Cond','sessionNr','SEA', 'PQ', 'ATT', 'HQI', 'HQS', 'HQ'],axis=1),df[target]\n",
    "    \n",
    "    # use only transformed columns\n",
    "    X = X[mahalanobis]\n",
    "    print(X.columns)\n",
    "    # remove \n",
    "    filename_to_save = 'Tables/PCA-Factor-Loadings/study1_PCA_mahalanobis_transformedDistributions.csv'\n",
    "    getFactorLoadings(X,y,filename_to_save)"
   ]
  },
  {
   "cell_type": "code",
   "execution_count": 5,
   "metadata": {
    "collapsed": true
   },
   "outputs": [
    {
     "name": "stdout",
     "output_type": "stream",
     "text": [
      "Index(['x_location.down_mean', 'y_location.down_mean', 'touch.duration_mean',\n",
      "       'swipe_length_mean', 'swipe_length.x_mean', 'swipe_length.y_mean',\n",
      "       'button_touch_x_location_mean', 'button_touch_y_location_mean',\n",
      "       'target_touch_x_location_mean', 'target_touch_y_location_mean',\n",
      "       ...\n",
      "       'target_touch_y_location_count', 'time_between_touches_count',\n",
      "       'x_location.release_count', 'y_location.release_count',\n",
      "       'difference.touch_buttonCenter_x_count',\n",
      "       'difference.touch_buttonCenter_y_count', 'touchAccuracy_count',\n",
      "       'touchAccuracy_x_count', 'touchAccuracy_y_count', 'hit_rate'],\n",
      "      dtype='object', length=181)\n",
      "Shape of the data after removing 0 variance highly correlated data: (587, 99)\n",
      "number of principal components: 99\n",
      "file saved in Tables/PCA-Factor-Loadings/study2_PCA_mahalanobis.csv\n"
     ]
    }
   ],
   "source": [
    "# study2 original distributions\n",
    "if __name__=='__main__':\n",
    "    path='../datasets/files_generated/UX/study2_features_data_out_mahalanobis.csv'\n",
    "    target='PQ'\n",
    "    df = pd.read_csv(path)\n",
    "\n",
    "    df=df[df['App']=='Spell']\n",
    "    X,y= df.drop(['sessionNr','App','user_id','Size','UserId', 'Session', 'PQ', 'ATT', 'HQI', 'HQS', 'HQ', 'IconSize'],axis=1),df[target]\n",
    "\n",
    "    filename_to_save = 'Tables/PCA-Factor-Loadings/study2_PCA_mahalanobis.csv'\n",
    "    print(X.columns)\n",
    "    getFactorLoadings(X,y,filename_to_save)"
   ]
  },
  {
   "cell_type": "code",
   "execution_count": 6,
   "metadata": {
    "collapsed": true
   },
   "outputs": [
    {
     "name": "stdout",
     "output_type": "stream",
     "text": [
      "reading the normal features from path:  Tables/NormalityCheck/study2_univariate_normality_test_features_mahalanobis_transformed.csv\n",
      "Index(['x_location.down_mean', 'y_location.down_mean', 'touch.duration_mean',\n",
      "       'swipe_length_mean', 'swipe_length.x_mean', 'swipe_length.y_mean',\n",
      "       'button_touch_x_location_mean', 'button_touch_y_location_mean',\n",
      "       'target_touch_x_location_mean', 'target_touch_y_location_mean',\n",
      "       ...\n",
      "       'target_touch_y_location_count', 'time_between_touches_count',\n",
      "       'x_location.release_count', 'y_location.release_count',\n",
      "       'difference.touch_buttonCenter_x_count',\n",
      "       'difference.touch_buttonCenter_y_count', 'touchAccuracy_count',\n",
      "       'touchAccuracy_x_count', 'touchAccuracy_y_count', 'hit_rate'],\n",
      "      dtype='object', length=155)\n",
      "Shape of the data after removing 0 variance highly correlated data: (587, 65)\n",
      "number of principal components: 65\n",
      "file saved in Tables/PCA-Factor-Loadings/study2_PCA_mahalanobis_transformedDistributions.csv\n"
     ]
    }
   ],
   "source": [
    "# study2 transformed distributions\n",
    "if __name__=='__main__':\n",
    "    path='../datasets/files_generated/UX/study2_features_data_out_mahalanobis_transformedDistributions.csv'\n",
    "    target='PQ'\n",
    "    df = pd.read_csv(path)\n",
    "    df=df[df['App']=='Spell']\n",
    "    \n",
    "    normality_test_features_path ='Tables/NormalityCheck/study2_univariate_normality_test_features_mahalanobis_transformed.csv'\n",
    "    mahalanobis = transformedColumns(normality_test_features_path)\n",
    "                     \n",
    "    X,y= df.drop(['sessionNr','App','user_id','Size','UserId', 'Session', 'PQ', 'ATT', 'HQI', 'HQS', 'HQ', 'IconSize'],axis=1),df[target]\n",
    "    \n",
    "    # use only transformed columns\n",
    "    X = X[mahalanobis]\n",
    "    print(X.columns)\n",
    "    # remove \n",
    "    filename_to_save = 'Tables/PCA-Factor-Loadings/study2_PCA_mahalanobis_transformedDistributions.csv'\n",
    "    getFactorLoadings(X,y,filename_to_save)"
   ]
  },
  {
   "cell_type": "code",
   "execution_count": 13,
   "metadata": {
    "collapsed": true
   },
   "outputs": [
    {
     "name": "stdout",
     "output_type": "stream",
     "text": [
      "Index(['button_touch_x_location_count', 'button_touch_x_location_kurt',\n",
      "       'button_touch_x_location_mad', 'button_touch_x_location_max',\n",
      "       'button_touch_x_location_mean', 'button_touch_x_location_median',\n",
      "       'button_touch_x_location_min', 'button_touch_x_location_quantile',\n",
      "       'button_touch_x_location_skew', 'button_touch_x_location_std',\n",
      "       ...\n",
      "       'y_location.release_count', 'y_location.release_kurt',\n",
      "       'y_location.release_mad', 'y_location.release_max',\n",
      "       'y_location.release_mean', 'y_location.release_median',\n",
      "       'y_location.release_min', 'y_location.release_quantile',\n",
      "       'y_location.release_skew', 'y_location.release_std'],\n",
      "      dtype='object', length=181)\n",
      "Shape of the data after removing 0 variance highly correlated data: (773, 101)\n",
      "number of principal components: 101\n",
      "file saved in Combined/Tables/PCA-Factor-Loadings/combined_PCA_mahalanobis.csv\n"
     ]
    }
   ],
   "source": [
    "# combined original distributions\n",
    "if __name__=='__main__':\n",
    "    path='../datasets/files_generated/UX/combined_features_data_out_mahalanobis.csv'\n",
    "    target='PQ'\n",
    "    df = pd.read_csv(path,index_col=0)\n",
    "\n",
    "    df=df[df['App']=='Spell']\n",
    "    X,y=df.drop(['sessionNr','App','user_id','Cond', \n",
    "                     'PQ', 'ATT', 'HQI', 'HQS', 'HQ'],axis=1),df[target]\n",
    "\n",
    "    filename_to_save = 'Combined/Tables/PCA-Factor-Loadings/combined_PCA_mahalanobis.csv'\n",
    "    print(X.columns)\n",
    "    getFactorLoadings(X,y,filename_to_save)"
   ]
  },
  {
   "cell_type": "code",
   "execution_count": 14,
   "metadata": {
    "collapsed": true
   },
   "outputs": [
    {
     "name": "stdout",
     "output_type": "stream",
     "text": [
      "Index(['button_touch_x_location_count', 'button_touch_x_location_kurt',\n",
      "       'button_touch_x_location_mad', 'button_touch_x_location_max',\n",
      "       'button_touch_x_location_mean', 'button_touch_x_location_median',\n",
      "       'button_touch_x_location_min', 'button_touch_x_location_quantile',\n",
      "       'button_touch_x_location_skew', 'button_touch_x_location_std',\n",
      "       ...\n",
      "       'y_location.release_count', 'y_location.release_kurt',\n",
      "       'y_location.release_mad', 'y_location.release_max',\n",
      "       'y_location.release_mean', 'y_location.release_median',\n",
      "       'y_location.release_min', 'y_location.release_quantile',\n",
      "       'y_location.release_skew', 'y_location.release_std'],\n",
      "      dtype='object', length=181)\n",
      "Shape of the data after removing 0 variance highly correlated data: (773, 83)\n",
      "number of principal components: 83\n",
      "file saved in Combined/Tables/PCA-Factor-Loadings/combined_PCA_mahalanobis_transformedDistributions.csv\n"
     ]
    }
   ],
   "source": [
    "# combined transformed distributions\n",
    "if __name__=='__main__':\n",
    "    path='../datasets/files_generated/UX/combined_features_data_out_mahalanobis_transformedDistributions.csv'\n",
    "    target='PQ'\n",
    "    df = pd.read_csv(path)\n",
    "#     print(df.columns)\n",
    "\n",
    "    df=df[df['App']=='Spell']\n",
    "    X,y=df.drop(['sessionNr','App','user_id','Cond', \n",
    "                     'PQ', 'ATT', 'HQI', 'HQS', 'HQ'],axis=1),df[target]\n",
    "    filename_to_save = 'Combined/Tables/PCA-Factor-Loadings/combined_PCA_mahalanobis_transformedDistributions.csv'\n",
    "    print(X.columns)\n",
    "    getFactorLoadings(X,y,filename_to_save)"
   ]
  }
 ],
 "metadata": {
  "kernelspec": {
   "display_name": "Python 3",
   "language": "python",
   "name": "python3"
  },
  "language_info": {
   "codemirror_mode": {
    "name": "ipython",
    "version": 3
   },
   "file_extension": ".py",
   "mimetype": "text/x-python",
   "name": "python",
   "nbconvert_exporter": "python",
   "pygments_lexer": "ipython3",
   "version": "3.6.5"
  }
 },
 "nbformat": 4,
 "nbformat_minor": 2
}
